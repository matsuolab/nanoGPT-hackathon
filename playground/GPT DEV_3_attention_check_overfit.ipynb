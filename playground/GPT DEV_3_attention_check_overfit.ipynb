{
 "cells": [
  {
   "cell_type": "code",
   "execution_count": 13,
   "metadata": {},
   "outputs": [
    {
     "data": {
      "text/plain": [
       "tensor([[[15., 57., 92.],\n",
       "         [ 0., 95., 53.],\n",
       "         [15., 10., 34.],\n",
       "         [90., 12., 20.]],\n",
       "\n",
       "        [[97., 86., 90.],\n",
       "         [38., 51., 64.],\n",
       "         [ 9., 15., 13.],\n",
       "         [46., 22., 50.]]])"
      ]
     },
     "execution_count": 13,
     "metadata": {},
     "output_type": "execute_result"
    }
   ],
   "source": [
    "import torch\n",
    "torch.manual_seed(1337)\n",
    "\n",
    "batch_size = 2\n",
    "sequence_length = 4\n",
    "d_model = 3\n",
    "representations = torch.randint(0, 100, (batch_size, sequence_length, d_model)).float()\n",
    "representations"
   ]
  },
  {
   "cell_type": "markdown",
   "metadata": {},
   "source": [
    "## generilize a special case\n",
    "> This is a bit more of a general coding tip but I’ve often seen people create bugs when they bite off more than they can chew, writing a relatively general functionality from scratch. I like to write a very specific function to what I’m doing right now, get that to work, and then generalize it later making sure that I get the same result. Often this applies to vectorizing code, where I almost always write out the fully loopy version first and only then transform it to vectorized code one loop at a time.\n",
    "\n",
    "https://karpathy.github.io/2019/04/25/recipe/"
   ]
  },
  {
   "cell_type": "code",
   "execution_count": 14,
   "metadata": {},
   "outputs": [
    {
     "data": {
      "text/plain": [
       "tensor([[[15.0000, 57.0000, 92.0000],\n",
       "         [ 7.5000, 76.0000, 72.5000],\n",
       "         [10.0000, 54.0000, 59.6667],\n",
       "         [30.0000, 43.5000, 49.7500]],\n",
       "\n",
       "        [[97.0000, 86.0000, 90.0000],\n",
       "         [67.5000, 68.5000, 77.0000],\n",
       "         [48.0000, 50.6667, 55.6667],\n",
       "         [47.5000, 43.5000, 54.2500]]])"
      ]
     },
     "execution_count": 14,
     "metadata": {},
     "output_type": "execute_result"
    }
   ],
   "source": [
    "aggregated_representations = torch.empty((batch_size, sequence_length, d_model))\n",
    "\n",
    "for batch_idx in range(batch_size):\n",
    "    for sequence_idx in range(sequence_length):\n",
    "        aggregated_representations[batch_idx, sequence_idx] = torch.mean(representations[batch_idx, :sequence_idx+1], dim=0)\n",
    "aggregated_representations"
   ]
  },
  {
   "cell_type": "code",
   "execution_count": 15,
   "metadata": {},
   "outputs": [
    {
     "data": {
      "text/plain": [
       "tensor([[[1.0000, 0.0000, 0.0000, 0.0000],\n",
       "         [0.5000, 0.5000, 0.0000, 0.0000],\n",
       "         [0.3333, 0.3333, 0.3333, 0.0000],\n",
       "         [0.2500, 0.2500, 0.2500, 0.2500]],\n",
       "\n",
       "        [[1.0000, 0.0000, 0.0000, 0.0000],\n",
       "         [0.5000, 0.5000, 0.0000, 0.0000],\n",
       "         [0.3333, 0.3333, 0.3333, 0.0000],\n",
       "         [0.2500, 0.2500, 0.2500, 0.2500]]])"
      ]
     },
     "execution_count": 15,
     "metadata": {},
     "output_type": "execute_result"
    }
   ],
   "source": [
    "attention_score = torch.tril(torch.ones((batch_size, sequence_length, sequence_length)))\n",
    "attention_score = attention_score / torch.sum(attention_score, dim=2, keepdim=True)\n",
    "attention_score"
   ]
  },
  {
   "cell_type": "code",
   "execution_count": 16,
   "metadata": {},
   "outputs": [
    {
     "data": {
      "text/plain": [
       "tensor([[[15.0000, 57.0000, 92.0000],\n",
       "         [ 7.5000, 76.0000, 72.5000],\n",
       "         [10.0000, 54.0000, 59.6667],\n",
       "         [30.0000, 43.5000, 49.7500]],\n",
       "\n",
       "        [[97.0000, 86.0000, 90.0000],\n",
       "         [67.5000, 68.5000, 77.0000],\n",
       "         [48.0000, 50.6667, 55.6667],\n",
       "         [47.5000, 43.5000, 54.2500]]])"
      ]
     },
     "execution_count": 16,
     "metadata": {},
     "output_type": "execute_result"
    }
   ],
   "source": [
    "attention_score @ representations"
   ]
  },
  {
   "cell_type": "code",
   "execution_count": 17,
   "metadata": {},
   "outputs": [
    {
     "data": {
      "text/plain": [
       "tensor([[[-0.0476,    -inf,    -inf,    -inf],\n",
       "         [-1.1081, -1.8002,    -inf,    -inf],\n",
       "         [ 0.1662,  1.2055,  0.1883,    -inf],\n",
       "         [-0.1585, -0.6300, -0.2221,  0.6924]],\n",
       "\n",
       "        [[ 1.1490,    -inf,    -inf,    -inf],\n",
       "         [ 0.1526,  0.3843,    -inf,    -inf],\n",
       "         [-0.7296, -1.5580, -0.3950,    -inf],\n",
       "         [-1.7097, -0.0826, -0.0495, -1.4480]]])"
      ]
     },
     "execution_count": 17,
     "metadata": {},
     "output_type": "execute_result"
    }
   ],
   "source": [
    "tril = torch.tril(torch.ones((sequence_length, sequence_length)))\n",
    "qk_dot_product = torch.randn((batch_size, sequence_length, sequence_length))\n",
    "qk_dot_product = qk_dot_product.masked_fill(tril == 0, float('-inf'))\n",
    "qk_dot_product"
   ]
  },
  {
   "cell_type": "code",
   "execution_count": 18,
   "metadata": {},
   "outputs": [
    {
     "data": {
      "text/plain": [
       "tensor([[[1.0000, 0.0000, 0.0000, 0.0000],\n",
       "         [0.6664, 0.3336, 0.0000, 0.0000],\n",
       "         [0.2062, 0.5830, 0.2108, 0.0000],\n",
       "         [0.2039, 0.1273, 0.1913, 0.4775]],\n",
       "\n",
       "        [[1.0000, 0.0000, 0.0000, 0.0000],\n",
       "         [0.4424, 0.5576, 0.0000, 0.0000],\n",
       "         [0.3528, 0.1541, 0.4931, 0.0000],\n",
       "         [0.0791, 0.4024, 0.4159, 0.1027]]])"
      ]
     },
     "execution_count": 18,
     "metadata": {},
     "output_type": "execute_result"
    }
   ],
   "source": [
    "torch.softmax(qk_dot_product, dim=2)"
   ]
  },
  {
   "cell_type": "code",
   "execution_count": 19,
   "metadata": {},
   "outputs": [],
   "source": [
    "d_head = 16\n",
    "k = torch.randn(batch_size, sequence_length, d_head)\n",
    "q = torch.randn(batch_size, sequence_length, d_head)\n",
    "v = torch.randn(batch_size, sequence_length, d_head)\n",
    "\n",
    "qk_dot_product = q @ k.transpose(-2, -1)\n",
    "scaled_qk_dot_product = qk_dot_product / (d_head ** 0.5)"
   ]
  },
  {
   "cell_type": "code",
   "execution_count": 20,
   "metadata": {},
   "outputs": [
    {
     "data": {
      "text/plain": [
       "tensor(0.8750)"
      ]
     },
     "execution_count": 20,
     "metadata": {},
     "output_type": "execute_result"
    }
   ],
   "source": [
    "k.var()"
   ]
  },
  {
   "cell_type": "code",
   "execution_count": 21,
   "metadata": {},
   "outputs": [
    {
     "data": {
      "text/plain": [
       "tensor(1.1169)"
      ]
     },
     "execution_count": 21,
     "metadata": {},
     "output_type": "execute_result"
    }
   ],
   "source": [
    "q.var()"
   ]
  },
  {
   "cell_type": "code",
   "execution_count": 22,
   "metadata": {},
   "outputs": [
    {
     "data": {
      "text/plain": [
       "(tensor(13.3547), tensor(0.8347))"
      ]
     },
     "execution_count": 22,
     "metadata": {},
     "output_type": "execute_result"
    }
   ],
   "source": [
    "qk_dot_product.var(), scaled_qk_dot_product.var()"
   ]
  },
  {
   "cell_type": "code",
   "execution_count": 23,
   "metadata": {},
   "outputs": [
    {
     "data": {
      "text/plain": [
       "tensor([0.1925, 0.1426, 0.2351, 0.1426, 0.2872])"
      ]
     },
     "execution_count": 23,
     "metadata": {},
     "output_type": "execute_result"
    }
   ],
   "source": [
    "torch.softmax(torch.tensor([0.1, -0.2, 0.3, -0.2, 0.5]), dim=-1)"
   ]
  },
  {
   "cell_type": "code",
   "execution_count": 24,
   "metadata": {},
   "outputs": [
    {
     "data": {
      "text/plain": [
       "tensor([0.0326, 0.0030, 0.1615, 0.0030, 0.8000])"
      ]
     },
     "execution_count": 24,
     "metadata": {},
     "output_type": "execute_result"
    }
   ],
   "source": [
    "torch.softmax(torch.tensor([0.1, -0.2, 0.3, -0.2, 0.5])* 8, dim=-1)"
   ]
  },
  {
   "cell_type": "code",
   "execution_count": 35,
   "metadata": {},
   "outputs": [],
   "source": [
    "import torch\n",
    "import torch.nn as nn\n",
    "from torch.nn import functional as F\n",
    "\n",
    "torch.manual_seed(1337)\n",
    "\n",
    "class Head(nn.Module):\n",
    "    def __init__(self, d_model, d_head):\n",
    "        super().__init__()\n",
    "        self.key = nn.Linear(d_model, d_head, bias=False)\n",
    "        self.query = nn.Linear(d_model, d_head, bias=False)\n",
    "        self.value = nn.Linear(d_model, d_head, bias=False)\n",
    "        self.back_to_d_model = nn.Linear(d_head, d_model)\n",
    "\n",
    "        self.register_buffer('mask', torch.tril(torch.ones((sequence_length, sequence_length))))\n",
    "        \n",
    "    \n",
    "    def forward(self, x):\n",
    "        # x: (batch_size, sequence_length, d_model)\n",
    "        k = self.key(x)\n",
    "        q = self.query(x)\n",
    "        v = self.value(x)\n",
    "\n",
    "        qk_dot_product = q @ k.transpose(-2, -1) / (d_head ** 0.5)\n",
    "        qk_dot_product = qk_dot_product.masked_fill(self.mask == 0, float('-inf'))\n",
    "        attention_score = torch.softmax(qk_dot_product, dim=-1)\n",
    "        out = attention_score @ v\n",
    "        out = self.back_to_d_model(out)\n",
    "        return out\n",
    "\n",
    "\n",
    "class AttentionLM(nn.Module):\n",
    "    def __init__(self, vocab_size, sequence_length, d_model, d_head):\n",
    "        super().__init__()\n",
    "        self.embed = nn.Embedding(vocab_size, d_model)\n",
    "        self.pos_embed = nn.Embedding(sequence_length, d_model)\n",
    "        self.head = Head(d_model, d_head)\n",
    "        self.ln = nn.LayerNorm(d_model)\n",
    "        self.unembed = nn.Linear(d_model, vocab_size)\n",
    "        print('number of parameters:', sum(p.numel() for p in self.parameters()))\n",
    "    \n",
    "    \n",
    "    def forward(self, token_indexes):\n",
    "        # token_indexes: (batch_size, sequence_length)\n",
    "        batch_size, sequence_length = token_indexes.size()\n",
    "        token_embed = self.embed(token_indexes)\n",
    "        pos_embed = self.pos_embed(torch.arange(sequence_length).to(token_embed.device))\n",
    "        x = token_embed + pos_embed\n",
    "        x = self.head(x)\n",
    "        x = self.ln(x)\n",
    "        logits = self.unembed(x)\n",
    "\n",
    "        return logits\n",
    "    \n",
    "    def loss_per_token(self, token_indexes, targets):\n",
    "        logits = self(token_indexes)\n",
    "        # logits: (batch_size, sequence_length, vocab_size)\n",
    "        # targets: (batch_size, sequence_length)\n",
    "        batch_size, sequence_length, vocab_size = logits.shape\n",
    "        loss = F.cross_entropy(\n",
    "            logits.view(batch_size*sequence_length, vocab_size),\n",
    "            targets.view(batch_size*sequence_length),\n",
    "            reduction='none'\n",
    "            )\n",
    "        # loss: (batch_size*sequence_length)\n",
    "        return loss.view(batch_size, sequence_length)\n",
    "    \n",
    "    def loss(self, token_indexes, targets):\n",
    "        logits = self(token_indexes)\n",
    "        # logits: (batch_size, sequence_length, vocab_size)\n",
    "        # targets: (batch_size, sequence_length)\n",
    "        batch_size, sequence_length, vocab_size = logits.shape\n",
    "        loss = F.cross_entropy(\n",
    "            logits.view(batch_size*sequence_length, vocab_size),\n",
    "            targets.view(batch_size*sequence_length)\n",
    "            )\n",
    "        # loss: scalar\n",
    "        return loss\n",
    "    \n",
    "    def generate(self, token_indexes, max_new_tokens):\n",
    "        # token_indexes: (batch_size, sequence_length)\n",
    "        batch_size, sequence_length = token_indexes.shape\n",
    "        for _ in range(max_new_tokens):\n",
    "            logits = self(token_indexes)\n",
    "            # logits: (batch_size, sequence_length, vocab_size)\n",
    "            next_token_logits = logits[:, -1, :]\n",
    "            # next_token_logits: (batch_size, vocab_size)\n",
    "            next_token_probs = F.softmax(next_token_logits, dim=-1)\n",
    "            # next_token_probs: (batch_size, vocab_size)\n",
    "            next_token = torch.multinomial(next_token_probs, num_samples=1)\n",
    "            # next_token: (batch_size, 1)\n",
    "            token_indexes = torch.cat([token_indexes, next_token], dim=1)\n",
    "            # token_indexes: (batch_size, sequence_length+1)\n",
    "        return token_indexes\n",
    "\n",
    "\n",
    "class BigramLanguageModel(nn.Module):\n",
    "    def __init__(self, vocab_size, d_model):\n",
    "        super().__init__()\n",
    "        # self.bigram_table = nn.Embedding(vocab_size, vocab_size)\n",
    "        self.token_embedding_table = nn.Embedding(vocab_size, d_model)\n",
    "        self.ln = nn.LayerNorm(d_model)\n",
    "        self.linear = nn.Linear(d_model, vocab_size)\n",
    "        print('number of parameters:', sum(p.numel() for p in self.parameters()))\n",
    "    \n",
    "    def forward(self, token_indexes):\n",
    "        # token_index: (batch_size, sequence_length)\n",
    "        # logits = self.bigram_table(token_indexes)\n",
    "\n",
    "        embedding = self.token_embedding_table(token_indexes)\n",
    "        embedding = self.ln(embedding)\n",
    "        logits = self.linear(embedding)\n",
    "        # logits: (batch_size, sequence_length, vocab_size)\n",
    "        return logits\n",
    "\n",
    "    def loss_per_token(self, token_indexes, targets):\n",
    "        logits = self(token_indexes)\n",
    "        # logits: (batch_size, sequence_length, vocab_size)\n",
    "        # targets: (batch_size, sequence_length)\n",
    "        batch_size, sequence_length, vocab_size = logits.shape\n",
    "        loss = F.cross_entropy(\n",
    "            logits.view(batch_size*sequence_length, vocab_size),\n",
    "            targets.view(batch_size*sequence_length),\n",
    "            reduction='none'\n",
    "            )\n",
    "        # loss: (batch_size*sequence_length)\n",
    "        return loss.view(batch_size, sequence_length)\n",
    "    \n",
    "    \n",
    "    def loss(self, token_indexes, targets):\n",
    "        logits = self(token_indexes)\n",
    "        # logits: (batch_size, sequence_length, vocab_size)\n",
    "        # targets: (batch_size, sequence_length)\n",
    "        batch_size, sequence_length, vocab_size = logits.shape\n",
    "        loss = F.cross_entropy(\n",
    "            logits.view(batch_size*sequence_length, vocab_size),\n",
    "            targets.view(batch_size*sequence_length)\n",
    "            )\n",
    "        # loss: scalar\n",
    "        return loss\n",
    "    \n",
    "    def generate(self, token_indexes, max_new_tokens):\n",
    "        # token_indexes: (batch_size, sequence_length)\n",
    "        batch_size, sequence_length = token_indexes.shape\n",
    "        for _ in range(max_new_tokens):\n",
    "            logits = self(token_indexes)\n",
    "            # logits: (batch_size, sequence_length, vocab_size)\n",
    "            next_token_logits = logits[:, -1, :]\n",
    "            # next_token_logits: (batch_size, vocab_size)\n",
    "            next_token_probs = F.softmax(next_token_logits, dim=-1)\n",
    "            # next_token_probs: (batch_size, vocab_size)\n",
    "            next_token = torch.multinomial(next_token_probs, num_samples=1)\n",
    "            # next_token: (batch_size, 1)\n",
    "            token_indexes = torch.cat([token_indexes, next_token], dim=1)\n",
    "            # token_indexes: (batch_size, sequence_length+1)\n",
    "        return token_indexes\n"
   ]
  },
  {
   "cell_type": "code",
   "execution_count": 36,
   "metadata": {},
   "outputs": [
    {
     "name": "stdout",
     "output_type": "stream",
     "text": [
      "number of parameters: 1085249\n",
      "steps: 0 loss: 4.328359603881836\n",
      "steps: 100 loss: 1.9020140171051025\n",
      "steps: 200 loss: 0.9388523697853088\n",
      "steps: 299 loss: 0.45989322662353516\n",
      "validation loss: 8.844975471496582\n"
     ]
    }
   ],
   "source": [
    "from data_char import enc, get_batch\n",
    "vocab_size = enc.n_vocab\n",
    "sequence_length = 1024\n",
    "d_model = 768\n",
    "d_head = 64\n",
    "\n",
    "model = AttentionLM(vocab_size, sequence_length, d_model, d_head).cuda()\n",
    "optimizer = torch.optim.AdamW(model.parameters(), lr=1e-3)\n",
    "batch_size = 32\n",
    "context_length = 1024\n",
    "iterations = 300\n",
    "x, y = get_batch(batch_size, context_length, 'train')\n",
    "for steps in range(iterations):\n",
    "    # print(x[0], y[0])\n",
    "    x, y = x.cuda(), y.cuda()\n",
    "    loss = model.loss(x, y)\n",
    "    optimizer.zero_grad()\n",
    "    loss.backward()\n",
    "    optimizer.step()\n",
    "    if steps % 100 == 0:\n",
    "        print('steps:', steps, 'loss:', loss.item())\n",
    "    # break\n",
    "print('steps:', steps, 'loss:', loss.item())\n",
    "\n",
    "with torch.no_grad():\n",
    "    val_x, val_y = get_batch(1, context_length, 'val')\n",
    "    val_x, val_y = val_x.cuda(), val_y.cuda()\n",
    "    loss = model.loss(val_x, val_y)\n",
    "    print('validation loss:', loss.item())"
   ]
  },
  {
   "cell_type": "code",
   "execution_count": 37,
   "metadata": {},
   "outputs": [
    {
     "data": {
      "text/plain": [
       "Text(0.5, 1.0, 'loss per token')"
      ]
     },
     "execution_count": 37,
     "metadata": {},
     "output_type": "execute_result"
    },
    {
     "data": {
      "image/png": "[encoded data removed]",
      "text/plain": [
       "<Figure size 640x480 with 1 Axes>"
      ]
     },
     "metadata": {},
     "output_type": "display_data"
    }
   ],
   "source": [
    "from matplotlib import pyplot as plt\n",
    "loss_per_token = model.loss_per_token(x,y)\n",
    "loss = model.loss(x,y)\n",
    "loss_per_token.mean().item(), loss.item()\n",
    "# print(loss_per_token.shape)\n",
    "\n",
    "# plot by points\n",
    "plt.plot(loss_per_token.mean(dim=0).detach().cpu().numpy())\n",
    "# x-axis 0 ~ 1024\n",
    "plt.xlim(0, 1024)\n",
    "plt.ylim(0, 5)\n",
    "plt.xlabel('token index')\n",
    "plt.ylabel('loss')\n",
    "plt.title('loss per token')"
   ]
  },
  {
   "cell_type": "code",
   "execution_count": 38,
   "metadata": {},
   "outputs": [
    {
     "name": "stdout",
     "output_type": "stream",
     "text": [
      "number of parameters: 101441\n",
      "steps: 0 loss: 4.318515300750732\n",
      "steps: 100 loss: 2.431689500808716\n",
      "steps: 200 loss: 2.423933744430542\n",
      "steps: 299 loss: 2.4220685958862305\n",
      "validation loss: 2.4799563884735107\n"
     ]
    }
   ],
   "source": [
    "model = BigramLanguageModel(vocab_size, d_model).cuda()\n",
    "optimizer = torch.optim.AdamW(model.parameters(), lr=1e-3)\n",
    "batch_size = 32\n",
    "context_length = 1024\n",
    "iterations = 300\n",
    "x, y = get_batch(batch_size, context_length, 'train')\n",
    "\n",
    "for steps in range(iterations):\n",
    "    # print(x[0], y[0])\n",
    "    x, y = x.cuda(), y.cuda()\n",
    "    loss = model.loss(x, y)\n",
    "    optimizer.zero_grad()\n",
    "    loss.backward()\n",
    "    optimizer.step()\n",
    "    if steps % 100 == 0:\n",
    "        print('steps:', steps, 'loss:', loss.item())\n",
    "print('steps:', steps, 'loss:', loss.item())\n",
    "with torch.no_grad():\n",
    "    val_x, val_y = get_batch(1, context_length, 'val')\n",
    "    val_x, val_y = val_x.cuda(), val_y.cuda()\n",
    "    loss = model.loss(val_x, val_y)\n",
    "    print('validation loss:', loss.item())"
   ]
  },
  {
   "cell_type": "code",
   "execution_count": 39,
   "metadata": {},
   "outputs": [
    {
     "data": {
      "text/plain": [
       "Text(0.5, 1.0, 'loss per token')"
      ]
     },
     "execution_count": 39,
     "metadata": {},
     "output_type": "execute_result"
    },
    {
     "data": {
      "image/png": "[encoded data removed]",
      "text/plain": [
       "<Figure size 640x480 with 1 Axes>"
      ]
     },
     "metadata": {},
     "output_type": "display_data"
    }
   ],
   "source": [
    "from matplotlib import pyplot as plt\n",
    "loss_per_token = model.loss_per_token(x,y)\n",
    "loss = model.loss(x,y)\n",
    "loss_per_token.mean().item(), loss.item()\n",
    "# print(loss_per_token.shape)\n",
    "\n",
    "plt.plot(loss_per_token.mean(dim=0).detach().cpu().numpy())\n",
    "plt.xlim(0, 1024)\n",
    "plt.ylim(0, 5)\n",
    "plt.xlabel('token index')\n",
    "plt.ylabel('loss')\n",
    "plt.title('loss per token')"
   ]
  },
  {
   "cell_type": "code",
   "execution_count": 30,
   "metadata": {},
   "outputs": [
    {
     "data": {
      "text/plain": [
       "4.174387269895637"
      ]
     },
     "execution_count": 30,
     "metadata": {},
     "output_type": "execute_result"
    }
   ],
   "source": [
    "import math\n",
    "-math.log(1/vocab_size)"
   ]
  },
  {
   "cell_type": "code",
   "execution_count": 31,
   "metadata": {},
   "outputs": [],
   "source": [
    "class Head(nn.Module):\n",
    "    \"\"\" one head of self-attention \"\"\"\n",
    "\n",
    "    def __init__(self, d_model, d_head):\n",
    "        super().__init__()\n",
    "        self.key = nn.Linear(d_model, d_head, bias=False)\n",
    "        self.query = nn.Linear(d_model, d_head, bias=False)\n",
    "        self.value = nn.Linear(d_model, d_head, bias=False)\n",
    "        self.register_buffer('tril', torch.tril(torch.ones(sequence_length, sequence_length)))\n",
    "\n",
    "        # self.dropout = nn.Dropout(dropout)\n",
    "\n",
    "    def forward(self, x):\n",
    "        B,T,C = x.shape\n",
    "        k = self.key(x)   # (B,T,C)\n",
    "        q = self.query(x) # (B,T,C)\n",
    "        # compute attention scores (\"affinities\")\n",
    "        wei = q @ k.transpose(-2,-1) * C**-0.5 # (B, T, C) @ (B, C, T) -> (B, T, T)\n",
    "        wei = wei.masked_fill(self.tril[:T, :T] == 0, float('-inf')) # (B, T, T)\n",
    "        wei = F.softmax(wei, dim=-1) # (B, T, T)\n",
    "        # wei = self.dropout(wei)\n",
    "        # perform the weighted aggregation of the values\n",
    "        v = self.value(x) # (B,T,C)\n",
    "        out = wei @ v # (B, T, T) @ (B, T, C) -> (B, T, C)\n",
    "        return out\n",
    "\n",
    "class MultiHeadAttention(nn.Module):\n",
    "    \"\"\" multiple heads of self-attention in parallel \"\"\"\n",
    "\n",
    "    def __init__(self, num_heads, d_model, d_head):\n",
    "        super().__init__()\n",
    "        self.heads = nn.ModuleList([Head(d_model, d_head) for _ in range(num_heads)])\n",
    "        self.proj = nn.Linear(d_model, d_model)\n",
    "        # self.dropout = nn.Dropout(dropout)\n",
    "\n",
    "    def forward(self, x):\n",
    "        out = torch.cat([h(x) for h in self.heads], dim=-1)\n",
    "        # out = self.dropout(self.proj(out))\n",
    "        out = self.proj(out)\n",
    "        return out\n",
    "\n",
    "class FeedFoward(nn.Module):\n",
    "    \"\"\" a simple linear layer followed by a non-linearity \"\"\"\n",
    "\n",
    "    def __init__(self, d_model):\n",
    "        super().__init__()\n",
    "        self.net = nn.Sequential(\n",
    "            nn.Linear(d_model, 4 * d_model),\n",
    "            nn.ReLU(),\n",
    "            nn.Linear(4 * d_model, d_model),\n",
    "            # nn.Dropout(dropout),\n",
    "        )\n",
    "\n",
    "    def forward(self, x):\n",
    "        return self.net(x)\n",
    "\n",
    "class Block(nn.Module):\n",
    "    \"\"\" Transformer block: communication followed by computation \"\"\"\n",
    "\n",
    "    def __init__(self, d_model, d_head, num_heads):\n",
    "        # d_model: embedding dimension, num_heads: the number of heads we'd like\n",
    "        super().__init__()\n",
    "        d_head = d_model // num_heads\n",
    "        self.sa = MultiHeadAttention(num_heads, d_model, d_head)\n",
    "        self.ffwd = FeedFoward(d_model)\n",
    "        self.ln1 = nn.LayerNorm(d_model)\n",
    "        self.ln2 = nn.LayerNorm(d_model)\n",
    "\n",
    "    def forward(self, x):\n",
    "        x = x + self.sa(self.ln1(x))\n",
    "        x = x + self.ffwd(self.ln2(x))\n",
    "        return x\n",
    "\n",
    "# super simple bigram model\n",
    "class AttentionLM(nn.Module):\n",
    "\n",
    "    def __init__(self, vocab_size, sequence_length, d_model, d_head, num_heads, n_layer):\n",
    "        super().__init__()\n",
    "        # each token directly reads off the logits for the next token from a lookup table\n",
    "        self.token_embedding_table = nn.Embedding(vocab_size, d_model)\n",
    "        self.position_embedding_table = nn.Embedding(sequence_length, d_model)\n",
    "        self.blocks = nn.Sequential(*[Block(d_model, d_head=d_head, num_heads=num_heads) for _ in range(n_layer)])\n",
    "        self.ln_f = nn.LayerNorm(d_model) # final layer norm\n",
    "        self.lm_head = nn.Linear(d_model, vocab_size)\n",
    "        print('number of parameters:', sum(p.numel() for p in self.parameters()))\n",
    "    \n",
    "    def forward(self, idx):\n",
    "        B, T = idx.shape\n",
    "\n",
    "        # idx and targets are both (B,T) tensor of integers\n",
    "        tok_emb = self.token_embedding_table(idx) # (B,T,C)\n",
    "        pos_emb = self.position_embedding_table(torch.arange(T, device=tok_emb.device)) # (T,C)\n",
    "        x = tok_emb + pos_emb # (B,T,C)\n",
    "        x = self.blocks(x) # (B,T,C)\n",
    "        x = self.ln_f(x) # (B,T,C)\n",
    "        logits = self.lm_head(x) # (B,T,vocab_size)\n",
    "        return logits\n",
    "\n",
    "    def loss(self, token_indexes, targets):\n",
    "        logits = self(token_indexes)\n",
    "        # logits: (batch_size, sequence_length, vocab_size)\n",
    "        # targets: (batch_size, sequence_length)\n",
    "        batch_size, sequence_length, vocab_size = logits.shape\n",
    "        loss = F.cross_entropy(\n",
    "            logits.view(batch_size*sequence_length, vocab_size),\n",
    "            targets.view(batch_size*sequence_length)\n",
    "            )\n",
    "        # loss: scalar\n",
    "        return loss\n",
    "    \n",
    "    def generate(self, token_indexes, max_new_tokens):\n",
    "        # token_indexes: (batch_size, sequence_length)\n",
    "        batch_size, sequence_length = token_indexes.shape\n",
    "        for _ in range(max_new_tokens):\n",
    "            logits = self(token_indexes)\n",
    "            # logits: (batch_size, sequence_length, vocab_size)\n",
    "            next_token_logits = logits[:, -1, :]\n",
    "            # next_token_logits: (batch_size, vocab_size)\n",
    "            next_token_probs = F.softmax(next_token_logits, dim=-1)\n",
    "            # next_token_probs: (batch_size, vocab_size)\n",
    "            next_token = torch.multinomial(next_token_probs, num_samples=1)\n",
    "            # next_token: (batch_size, 1)\n",
    "            token_indexes = torch.cat([token_indexes, next_token], dim=1)\n",
    "            # token_indexes: (batch_size, sequence_length+1)\n",
    "        return token_indexes\n",
    "    \n",
    "    def loss_per_token(self, token_indexes, targets):\n",
    "        logits = self(token_indexes)\n",
    "        # logits: (batch_size, sequence_length, vocab_size)\n",
    "        # targets: (batch_size, sequence_length)\n",
    "        batch_size, sequence_length, vocab_size = logits.shape\n",
    "        loss = F.cross_entropy(\n",
    "            logits.view(batch_size*sequence_length, vocab_size),\n",
    "            targets.view(batch_size*sequence_length),\n",
    "            reduction='none'\n",
    "            )\n",
    "        # loss: (batch_size*sequence_length)\n",
    "        return loss.view(batch_size, sequence_length)"
   ]
  },
  {
   "cell_type": "markdown",
   "metadata": {},
   "source": [
    "## Overfit one batch\n",
    ">  Overfit a single batch of only a few examples (e.g. as little as two). To do so we increase the capacity of our model (e.g. add layers or filters) and verify that we can reach the lowest achievable loss (e.g. zero). I also like to visualize in the same plot both the label and the prediction and ensure that they end up aligning perfectly once we reach the minimum loss. If they do not, there is a bug somewhere and we cannot continue to the next stage.\n",
    "\n",
    "> The approach I like to take to finding a good model has two stages: first get a model large enough that it can overfit (i.e. focus on training loss) and then regularize it appropriately (give up some training loss to improve the validation loss). The reason I like these two stages is that if we are not able to reach a low error rate with any model at all that may again indicate some issues, bugs, or misconfiguration.\n",
    "\n",
    "https://karpathy.github.io/2019/04/25/recipe/"
   ]
  },
  {
   "cell_type": "code",
   "execution_count": 32,
   "metadata": {},
   "outputs": [
    {
     "name": "stdout",
     "output_type": "stream",
     "text": [
      "number of parameters: 15059009\n",
      "steps: 0 loss: 4.373307228088379\n",
      "steps: 100 loss: 1.3534984588623047\n",
      "steps: 200 loss: 0.14664000272750854\n",
      "steps: 300 loss: 0.007650444284081459\n",
      "steps: 400 loss: 0.003188813803717494\n",
      "steps: 500 loss: 0.0019986487459391356\n",
      "steps: 600 loss: 0.0014852412277832627\n",
      "steps: 700 loss: 0.0012111642863601446\n",
      "steps: 800 loss: 0.0010455630254000425\n",
      "steps: 900 loss: 0.0009370149346068501\n",
      "steps: 999 loss: 0.0008622257155366242\n",
      "validation loss: 11.710304260253906\n"
     ]
    }
   ],
   "source": [
    "from data_char import enc, get_batch\n",
    "vocab_size = enc.n_vocab\n",
    "sequence_length = 1024\n",
    "d_model = 768\n",
    "d_head = 64\n",
    "n_layer = 2\n",
    "num_heads = 12\n",
    "\n",
    "model = AttentionLM(vocab_size, sequence_length, d_model, d_head, num_heads, n_layer).cuda()\n",
    "optimizer = torch.optim.AdamW(model.parameters(), lr=5e-4)\n",
    "batch_size = 32\n",
    "context_length = 1024\n",
    "iterations = 1000\n",
    "x, y = get_batch(batch_size, context_length, 'train')\n",
    "for steps in range(iterations):\n",
    "    # print(x[0], y[0])\n",
    "    x, y = x.cuda(), y.cuda()\n",
    "    loss = model.loss(x, y)\n",
    "    optimizer.zero_grad()\n",
    "    loss.backward()\n",
    "    optimizer.step()\n",
    "    if steps % 100 == 0:\n",
    "        print('steps:', steps, 'loss:', loss.item())\n",
    "print('steps:', steps, 'loss:', loss.item())\n",
    "\n",
    "with torch.no_grad():\n",
    "    val_x, val_y = get_batch(1, context_length, 'val')\n",
    "    val_x, val_y = val_x.cuda(), val_y.cuda()\n",
    "    loss = model.loss(val_x, val_y)\n",
    "    print('validation loss:', loss.item())"
   ]
  },
  {
   "cell_type": "code",
   "execution_count": 33,
   "metadata": {},
   "outputs": [
    {
     "data": {
      "text/plain": [
       "1.0000499835818495"
      ]
     },
     "execution_count": 33,
     "metadata": {},
     "output_type": "execute_result"
    }
   ],
   "source": [
    "math.exp(4.998233271180652e-05)"
   ]
  },
  {
   "cell_type": "code",
   "execution_count": 34,
   "metadata": {},
   "outputs": [
    {
     "data": {
      "text/plain": [
       "Text(0.5, 1.0, 'loss per token')"
      ]
     },
     "execution_count": 34,
     "metadata": {},
     "output_type": "execute_result"
    },
    {
     "data": {
      "image/png": "[encoded data removed]",
      "text/plain": [
       "<Figure size 640x480 with 1 Axes>"
      ]
     },
     "metadata": {},
     "output_type": "display_data"
    }
   ],
   "source": [
    "from matplotlib import pyplot as plt\n",
    "loss_per_token = model.loss_per_token(x,y)\n",
    "loss = model.loss(x,y)\n",
    "loss_per_token.mean().item(), loss.item()\n",
    "# print(loss_per_token.shape)\n",
    "\n",
    "plt.plot(loss_per_token.mean(dim=0).detach().cpu().numpy())\n",
    "plt.xlim(0, 1024)\n",
    "plt.ylim(-0.1, 5)\n",
    "plt.xlabel('token index')\n",
    "plt.ylabel('loss')\n",
    "plt.title('loss per token')"
   ]
  },
  {
   "cell_type": "markdown",
   "metadata": {},
   "source": [
    "## References\n",
    "- https://www.youtube.com/watch?v=kCc8FmEb1nY  \n",
    "- https://github.com/karpathy/ng-video-lecture  \n",
    "- https://colab.research.google.com/drive/1JMLa53HDuA-i7ZBmqV7ZnA3c_fvtXnx-?usp=sharing  "
   ]
  },
  {
   "cell_type": "markdown",
   "metadata": {},
   "source": []
  }
 ],
 "metadata": {
  "kernelspec": {
   "display_name": "base",
   "language": "python",
   "name": "python3"
  },
  "language_info": {
   "codemirror_mode": {
    "name": "ipython",
    "version": 3
   },
   "file_extension": ".py",
   "mimetype": "text/x-python",
   "name": "python",
   "nbconvert_exporter": "python",
   "pygments_lexer": "ipython3",
   "version": "3.12.2"
  }
 },
 "nbformat": 4,
 "nbformat_minor": 2
}
